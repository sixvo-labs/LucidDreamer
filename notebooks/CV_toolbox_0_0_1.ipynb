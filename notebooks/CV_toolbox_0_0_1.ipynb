{
  "nbformat": 4,
  "nbformat_minor": 0,
  "metadata": {
    "colab": {
      "name": "CV_toolbox_0_0_1.ipynb",
      "provenance": [],
      "collapsed_sections": [],
      "authorship_tag": "ABX9TyNI7TwAhPuYPB5ns1Tab8yQ",
      "include_colab_link": true
    },
    "kernelspec": {
      "name": "python3",
      "display_name": "Python 3"
    },
    "language_info": {
      "name": "python"
    }
  },
  "cells": [
    {
      "cell_type": "markdown",
      "metadata": {
        "id": "view-in-github",
        "colab_type": "text"
      },
      "source": [
        "<a href=\"https://colab.research.google.com/github/sixvo-labs/ChaosEngine/blob/main/CV_toolbox_0_0_1.ipynb\" target=\"_parent\"><img src=\"https://colab.research.google.com/assets/colab-badge.svg\" alt=\"Open In Colab\"/></a>"
      ]
    },
    {
      "cell_type": "code",
      "source": [
        "#a comfy ComputerVision Notebook toolbox - (being converted to collab)"
      ],
      "metadata": {
        "id": "f4P_q9OU0W9H"
      },
      "execution_count": null,
      "outputs": []
    },
    {
      "cell_type": "code",
      "execution_count": null,
      "metadata": {
        "id": "a2z1GyiGthn3"
      },
      "outputs": [],
      "source": [
        "!pip install numpy\n",
        "!pip install scipy\n",
        "!pip install matplotlib\n",
        "!pip install opencv-python\n",
        "!pip install scikit-learn\n",
        "!pip install -U scikit-image"
      ]
    },
    {
      "cell_type": "code",
      "source": [
        "\"\"\"\n",
        "#python3\n",
        "load_display_save.py\n",
        "\"\"\"\n",
        "from google.colab.patches import cv2_imshow #cv2.imshow() causes collab notebooks to crash\n",
        "from __future__ import print_function #used for cross compatibility between 2.x and 3.x \n",
        "import argparse\n",
        "import cv2\n",
        "\n",
        "# for command line\n",
        "# ap = argparse.ArgumentParser()\n",
        "# ap.add.arguments(\"-i\", \"--image\", required = True, help = \"Path to the image\")\n",
        "# args = vars(ap.parse_args())\n",
        "# image = cv2.imread(\"args[\"image\"])\n",
        "\n",
        "#for collab\n",
        "image = cv2.imread('/content/download.jpg')\n",
        "\n",
        "print(\"width: {} pixels\".format(image.shape[1]))\n",
        "print(\"height: {} pixels\".format(image.shape[0]))\n",
        "print(\"channels: {}\" .format(image.shape[2]))\n",
        "cv2_imshow(image)\n",
        "cv2.waitKey(0)\n",
        "\n",
        "cv2.imwrite(\"newimage.jpg\", image)\n"
      ],
      "metadata": {
        "id": "zOCuvJDUup8i"
      },
      "execution_count": null,
      "outputs": []
    },
    {
      "cell_type": "code",
      "source": [
        "\"\"\"\n",
        "# Common RGB\n",
        "\n",
        "Black: (0,0,0)\n",
        "White: (255,255,255)\n",
        "Red: (255,0,0)\n",
        "Green: (0,255,0)\n",
        "Blue: (0,0,255)\n",
        "Aqua: (0,255,255)\n",
        "Fuchsia: (255,0,255)\n",
        "Maroon: (128,0,0)\n",
        "Navy: (0,0,125)\n",
        "Olive: (128,128,0)\n",
        "Purple: (128,0,128)\n",
        "Teal: (0,128,128)\n",
        "Yellow: (255,255,0)\n",
        "\n",
        "\"\"\""
      ],
      "metadata": {
        "id": "e2Kd7AXWwYcX"
      },
      "execution_count": null,
      "outputs": []
    },
    {
      "cell_type": "code",
      "source": [
        ""
      ],
      "metadata": {
        "id": "Am6D6ceT47-J"
      },
      "execution_count": null,
      "outputs": []
    },
    {
      "cell_type": "code",
      "source": [
        "\"\"\"\n",
        "# getting_and_setting.py\n",
        "from __future__ import print_function \n",
        "import argparse\n",
        "import cv2\n",
        "\n",
        "# for command line (untested)\n",
        "ap argparse.ArgumentParser()\n",
        "ap.add_argument(\"-\", \"--image\", required=True, help = \"Path to the image\")\n",
        "args = vars(ap.parse_args())\n",
        "\n",
        "image = cv2.imread(args[\"image\"])\n",
        "cv2.imshow(\"Original\", image)\n",
        "\"\"\"\n",
        "\n",
        "# for Collabatory\n",
        "\n",
        "import cv2\n",
        "from google.colab.patches import cv2_imshow #cv2.imshow() causes collab notebooks to crash\n",
        "\n",
        "image = cv2.imread('/content/download.png')\n",
        "(b, g, r) = image[0,0]\n",
        "print(\"Pixel at 0,0) - Red: {}, Green: {}, Blue: {}\".format(r, g, b))\n",
        "\n",
        "image[0,0] = (0, 0, 255)\n",
        "(b, g, r) = image [0,0]\n",
        "print(\"Pixel at 0,0) - Red: {}, Green: {}, Blue: {}\".format(r, g, b))\n",
        "\n",
        "corner = image[0:100, 0:100]  # [start_y:end_y, start_x, end_x]\n",
        "cv2_imshow(\"Corner\", corner)\n",
        "\n",
        "image[0:100, 0:100] = (0, 255, 0)\n",
        "\n",
        "cv2_imshow(\"Updated\", image)\n",
        "cv2.waitkey(0)"
      ],
      "metadata": {
        "id": "sTgYI2QY4-S1"
      },
      "execution_count": null,
      "outputs": []
    },
    {
      "cell_type": "code",
      "source": [
        ""
      ],
      "metadata": {
        "id": "h942WhAcXw2_"
      },
      "execution_count": null,
      "outputs": []
    }
  ]
}